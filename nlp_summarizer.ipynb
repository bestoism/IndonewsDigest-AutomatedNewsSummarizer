{
 "cells": [
  {
   "cell_type": "code",
   "execution_count": 1,
   "id": "88e1fa07-d258-495c-b25a-7c1146d28fc6",
   "metadata": {},
   "outputs": [
    {
     "name": "stdout",
     "output_type": "stream",
     "text": [
      "Library berhasil diimpor!\n"
     ]
    }
   ],
   "source": [
    "import pandas as pd\n",
    "from transformers import pipeline\n",
    "\n",
    "print(\"Library berhasil diimpor!\")"
   ]
  },
  {
   "cell_type": "code",
   "execution_count": 2,
   "id": "da23032b-67ef-49c8-bbc0-7840c973c5ca",
   "metadata": {},
   "outputs": [
    {
     "name": "stdout",
     "output_type": "stream",
     "text": [
      "Data berhasil dimuat:\n"
     ]
    },
    {
     "data": {
      "text/html": [
       "<div>\n",
       "<style scoped>\n",
       "    .dataframe tbody tr th:only-of-type {\n",
       "        vertical-align: middle;\n",
       "    }\n",
       "\n",
       "    .dataframe tbody tr th {\n",
       "        vertical-align: top;\n",
       "    }\n",
       "\n",
       "    .dataframe thead th {\n",
       "        text-align: right;\n",
       "    }\n",
       "</style>\n",
       "<table border=\"1\" class=\"dataframe\">\n",
       "  <thead>\n",
       "    <tr style=\"text-align: right;\">\n",
       "      <th></th>\n",
       "      <th>title</th>\n",
       "      <th>url</th>\n",
       "      <th>content</th>\n",
       "    </tr>\n",
       "  </thead>\n",
       "  <tbody>\n",
       "    <tr>\n",
       "      <th>0</th>\n",
       "      <td>Janice Tjen Juara Ganda Putri Guangzhou Open 2025</td>\n",
       "      <td>https://www.cnnindonesia.com/olahraga/20251026...</td>\n",
       "      <td>Petenis tunggal putri Indonesia,Janice Tjen, b...</td>\n",
       "    </tr>\n",
       "    <tr>\n",
       "      <th>1</th>\n",
       "      <td>Kebijakan Pengelolaan Sumur Minyak Rakyat, Dor...</td>\n",
       "      <td>https://www.cnnindonesia.com/ekonomi/202510251...</td>\n",
       "      <td>Dalam satu tahun kepemimpinan Presiden Prabowo...</td>\n",
       "    </tr>\n",
       "    <tr>\n",
       "      <th>2</th>\n",
       "      <td>Smart TV 65 Inch Banting Harga Jadi Rp8 Jutaan...</td>\n",
       "      <td>https://www.cnnindonesia.com/ekonomi/202510241...</td>\n",
       "      <td>Transmart Full Day Salekembali lagi hari ini, ...</td>\n",
       "    </tr>\n",
       "    <tr>\n",
       "      <th>3</th>\n",
       "      <td>Butet ke Sultan HB X: Kita Panen Keracunan MBG...</td>\n",
       "      <td>https://www.cnnindonesia.com/nasional/20251026...</td>\n",
       "      <td>Seniman sekaligus budayawan,Butet Kertaredjasa...</td>\n",
       "    </tr>\n",
       "    <tr>\n",
       "      <th>4</th>\n",
       "      <td>Raisa dan Hamish soal Perceraian: Keputusan in...</td>\n",
       "      <td>https://www.cnnindonesia.com/hiburan/202510261...</td>\n",
       "      <td>PasanganHamish DauddanRaisamenyebut pengajuan ...</td>\n",
       "    </tr>\n",
       "  </tbody>\n",
       "</table>\n",
       "</div>"
      ],
      "text/plain": [
       "                                               title  \\\n",
       "0  Janice Tjen Juara Ganda Putri Guangzhou Open 2025   \n",
       "1  Kebijakan Pengelolaan Sumur Minyak Rakyat, Dor...   \n",
       "2  Smart TV 65 Inch Banting Harga Jadi Rp8 Jutaan...   \n",
       "3  Butet ke Sultan HB X: Kita Panen Keracunan MBG...   \n",
       "4  Raisa dan Hamish soal Perceraian: Keputusan in...   \n",
       "\n",
       "                                                 url  \\\n",
       "0  https://www.cnnindonesia.com/olahraga/20251026...   \n",
       "1  https://www.cnnindonesia.com/ekonomi/202510251...   \n",
       "2  https://www.cnnindonesia.com/ekonomi/202510241...   \n",
       "3  https://www.cnnindonesia.com/nasional/20251026...   \n",
       "4  https://www.cnnindonesia.com/hiburan/202510261...   \n",
       "\n",
       "                                             content  \n",
       "0  Petenis tunggal putri Indonesia,Janice Tjen, b...  \n",
       "1  Dalam satu tahun kepemimpinan Presiden Prabowo...  \n",
       "2  Transmart Full Day Salekembali lagi hari ini, ...  \n",
       "3  Seniman sekaligus budayawan,Butet Kertaredjasa...  \n",
       "4  PasanganHamish DauddanRaisamenyebut pengajuan ...  "
      ]
     },
     "execution_count": 2,
     "metadata": {},
     "output_type": "execute_result"
    }
   ],
   "source": [
    "# Muat data dari file CSV yang sudah kita buat\n",
    "df = pd.read_csv('scraped_articles.csv')\n",
    "\n",
    "# Tampilkan 5 baris pertama untuk memastikan data termuat dengan benar\n",
    "print(\"Data berhasil dimuat:\")\n",
    "df.head()"
   ]
  },
  {
   "cell_type": "code",
   "execution_count": 3,
   "id": "4f65b033-b01d-48bf-a27b-82416e6cd793",
   "metadata": {},
   "outputs": [
    {
     "name": "stdout",
     "output_type": "stream",
     "text": [
      "Mulai memuat komponen untuk model: cahya/t5-base-indonesian-summarization-cased...\n",
      "Memuat tokenizer...\n"
     ]
    },
    {
     "name": "stderr",
     "output_type": "stream",
     "text": [
      "You are using the default legacy behaviour of the <class 'transformers.models.t5.tokenization_t5.T5Tokenizer'>. This is expected, and simply means that the `legacy` (previous) behavior will be used so nothing changes for you. If you want to use the new behaviour, set `legacy=False`. This should only be set if you understand what it means, and thoroughly read the reason why this was added as explained in https://github.com/huggingface/transformers/pull/24565\n"
     ]
    },
    {
     "name": "stdout",
     "output_type": "stream",
     "text": [
      "Tokenizer berhasil dimuat.\n",
      "Memuat model (langkah ini mungkin butuh waktu)...\n"
     ]
    },
    {
     "name": "stderr",
     "output_type": "stream",
     "text": [
      "Device set to use cpu\n"
     ]
    },
    {
     "name": "stdout",
     "output_type": "stream",
     "text": [
      "Model berhasil dimuat.\n",
      "Menginisialisasi pipeline dengan komponen yang sudah ada...\n",
      "\n",
      "Model dan Pipeline berhasil diinisialisasi!\n",
      "\n",
      "Membuat ringkasan untuk artikel pertama...\n"
     ]
    },
    {
     "name": "stderr",
     "output_type": "stream",
     "text": [
      "Both `max_new_tokens` (=256) and `max_length`(=100) seem to have been set. `max_new_tokens` will take precedence. Please refer to the documentation for more information. (https://huggingface.co/docs/transformers/main/en/main_classes/text_generation)\n",
      "Exception ignored in: <function tqdm.__del__ at 0x00000274B8762F20>\n",
      "Traceback (most recent call last):\n",
      "  File \"C:\\Users\\Besto\\IndonewsDigest-AutomatedNewsSummarizer\\venv\\Lib\\site-packages\\tqdm\\std.py\", line 1148, in __del__\n",
      "    self.close()\n",
      "  File \"C:\\Users\\Besto\\IndonewsDigest-AutomatedNewsSummarizer\\venv\\Lib\\site-packages\\tqdm\\notebook.py\", line 279, in close\n",
      "    self.disp(bar_style='danger', check_delay=False)\n",
      "AttributeError: 'tqdm' object has no attribute 'disp'\n"
     ]
    },
    {
     "name": "stdout",
     "output_type": "stream",
     "text": [
      "\n",
      "--- Hasil Ringkasan ---\n",
      "Petenis tunggal putri Indonesia,Janice Tjen, berhasil merebut gelar ganda putri di Guangzhou Open 2025 setelah menang bersama pasangannya, Katarzyna Piter, pada babak final di Nansha International Tennis Center, China, Minggu ( 26/10).\n"
     ]
    }
   ],
   "source": [
    "from transformers import AutoTokenizer, AutoModelForSeq2SeqLM, pipeline\n",
    "\n",
    "model_name = \"cahya/t5-base-indonesian-summarization-cased\"\n",
    "\n",
    "try:\n",
    "    print(f\"Mulai memuat komponen untuk model: {model_name}...\")\n",
    "\n",
    "    # Langkah 1: Muat Tokenizer secara manual\n",
    "    # Ini akan membaca file spiece.model yang sudah Anda unduh\n",
    "    print(\"Memuat tokenizer...\")\n",
    "    tokenizer = AutoTokenizer.from_pretrained(model_name)\n",
    "    print(\"Tokenizer berhasil dimuat.\")\n",
    "\n",
    "    # Langkah 2: Muat Model secara manual\n",
    "    # Ini akan memuat file pytorch_model.bin yang sudah Anda unduh\n",
    "    print(\"Memuat model (langkah ini mungkin butuh waktu)...\")\n",
    "    model = AutoModelForSeq2SeqLM.from_pretrained(model_name)\n",
    "    print(\"Model berhasil dimuat.\")\n",
    "    \n",
    "    # Langkah 3: Buat pipeline dari komponen yang SUDAH jadi\n",
    "    # Tidak ada lagi konversi, kita langsung berikan apa yang dibutuhkan\n",
    "    print(\"Menginisialisasi pipeline dengan komponen yang sudah ada...\")\n",
    "    summarizer = pipeline(\"summarization\", model=model, tokenizer=tokenizer)\n",
    "    \n",
    "    print(\"\\nModel dan Pipeline berhasil diinisialisasi!\")\n",
    "\n",
    "    # --- Contoh Penggunaan ---\n",
    "    # Mengambil konten artikel pertama dari DataFrame Anda\n",
    "    text_artikel = df['content'][0] \n",
    "\n",
    "    # Hasilkan ringkasan\n",
    "    print(\"\\nMembuat ringkasan untuk artikel pertama...\")\n",
    "    hasil_ringkasan = summarizer(text_artikel, max_length=100, min_length=30, do_sample=False)\n",
    "\n",
    "    print(\"\\n--- Hasil Ringkasan ---\")\n",
    "    print(hasil_ringkasan[0]['summary_text'])\n",
    "\n",
    "except Exception as e:\n",
    "    print(f\"\\nTerjadi kesalahan: {e}\")"
   ]
  },
  {
   "cell_type": "code",
   "execution_count": 4,
   "id": "242aaff7-cee1-425b-8409-9ee55e4446a9",
   "metadata": {},
   "outputs": [
    {
     "name": "stdout",
     "output_type": "stream",
     "text": [
      "Mulai meringkas semua artikel dengan parameter yang disempurnakan...\n",
      "Meringkas artikel #1: Janice Tjen Juara Ganda Putri Guangzhou Open 2025...\n"
     ]
    },
    {
     "name": "stderr",
     "output_type": "stream",
     "text": [
      "Both `max_new_tokens` (=256) and `max_length`(=80) seem to have been set. `max_new_tokens` will take precedence. Please refer to the documentation for more information. (https://huggingface.co/docs/transformers/main/en/main_classes/text_generation)\n"
     ]
    },
    {
     "name": "stdout",
     "output_type": "stream",
     "text": [
      "Meringkas artikel #2: Kebijakan Pengelolaan Sumur Minyak Rakyat, Dorong ...\n"
     ]
    },
    {
     "name": "stderr",
     "output_type": "stream",
     "text": [
      "Both `max_new_tokens` (=256) and `max_length`(=80) seem to have been set. `max_new_tokens` will take precedence. Please refer to the documentation for more information. (https://huggingface.co/docs/transformers/main/en/main_classes/text_generation)\n",
      "Both `max_new_tokens` (=256) and `max_length`(=80) seem to have been set. `max_new_tokens` will take precedence. Please refer to the documentation for more information. (https://huggingface.co/docs/transformers/main/en/main_classes/text_generation)\n"
     ]
    },
    {
     "name": "stdout",
     "output_type": "stream",
     "text": [
      "Meringkas artikel #3: Smart TV 65 Inch Banting Harga Jadi Rp8 Jutaan di ...\n",
      "Meringkas artikel #4: Butet ke Sultan HB X: Kita Panen Keracunan MBG dan...\n"
     ]
    },
    {
     "name": "stderr",
     "output_type": "stream",
     "text": [
      "Both `max_new_tokens` (=256) and `max_length`(=80) seem to have been set. `max_new_tokens` will take precedence. Please refer to the documentation for more information. (https://huggingface.co/docs/transformers/main/en/main_classes/text_generation)\n"
     ]
    },
    {
     "name": "stdout",
     "output_type": "stream",
     "text": [
      "Meringkas artikel #5: Raisa dan Hamish soal Perceraian: Keputusan ini Ka...\n"
     ]
    },
    {
     "name": "stderr",
     "output_type": "stream",
     "text": [
      "Both `max_new_tokens` (=256) and `max_length`(=80) seem to have been set. `max_new_tokens` will take precedence. Please refer to the documentation for more information. (https://huggingface.co/docs/transformers/main/en/main_classes/text_generation)\n"
     ]
    },
    {
     "name": "stdout",
     "output_type": "stream",
     "text": [
      "\n",
      "--- Proses Meringkas Selesai! ---\n",
      "Menampilkan hasil dengan kolom 'summary_improved' baru:\n",
      "\n",
      "File 'articles_with_summaries.csv' berhasil disimpan!\n"
     ]
    }
   ],
   "source": [
    "print(\"Mulai meringkas semua artikel dengan parameter yang disempurnakan...\")\n",
    "\n",
    "summaries = []\n",
    "\n",
    "for index, row in df.iterrows():\n",
    "    print(f\"Meringkas artikel #{index + 1}: {row['title'][:50]}...\")\n",
    "    \n",
    "    article_text = row['content']\n",
    "    \n",
    "    try:\n",
    "        # --- PARAMETER YANG DISEMPURNAKAN ---\n",
    "        summary_result = summarizer(\n",
    "            article_text, \n",
    "            max_length=80,        # Batasi panjang total ringkasan agar lebih padat\n",
    "            min_length=25,        # Tetapkan panjang minimal agar tidak terlalu pendek\n",
    "            num_beams=4,          # \"Berpikir\" dengan 4 kemungkinan cabang (memperbaiki kualitas)\n",
    "            repetition_penalty=2.0, # Mencegah pengulangan kata\n",
    "            do_sample=False       # Tetap False untuk hasil yang deterministik\n",
    "        )\n",
    "        summaries.append(summary_result[0]['summary_text'])\n",
    "    except Exception as e:\n",
    "        print(f\"  -> Gagal meringkas artikel #{index + 1}. Error: {e}\")\n",
    "        summaries.append(\"Gagal diringkas.\")\n",
    "\n",
    "print(\"\\n--- Proses Meringkas Selesai! ---\")\n",
    "\n",
    "# Tambahkan kolom baru (atau timpa yang lama jika Anda menjalankan ulang sel)\n",
    "df['summary_improved'] = summaries\n",
    "\n",
    "print(\"Menampilkan hasil dengan kolom 'summary_improved' baru:\")\n",
    "df.head()\n",
    "\n",
    "# --- LANGKAH TERAKHIR: Simpan Hasil Anda ---\n",
    "df.to_csv('articles_with_summaries.csv', index=False)\n",
    "print(\"\\nFile 'articles_with_summaries.csv' berhasil disimpan!\")"
   ]
  },
  {
   "cell_type": "code",
   "execution_count": null,
   "id": "7430e746-031a-42b9-9324-911219601020",
   "metadata": {},
   "outputs": [],
   "source": []
  }
 ],
 "metadata": {
  "kernelspec": {
   "display_name": "Python 3 (ipykernel)",
   "language": "python",
   "name": "python3"
  },
  "language_info": {
   "codemirror_mode": {
    "name": "ipython",
    "version": 3
   },
   "file_extension": ".py",
   "mimetype": "text/x-python",
   "name": "python",
   "nbconvert_exporter": "python",
   "pygments_lexer": "ipython3",
   "version": "3.13.3"
  }
 },
 "nbformat": 4,
 "nbformat_minor": 5
}
